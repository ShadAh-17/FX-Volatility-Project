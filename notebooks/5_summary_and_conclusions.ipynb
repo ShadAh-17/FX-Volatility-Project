{
 "cells": [
  {
   "cell_type": "markdown",
   "metadata": {},
   "source": [
    "# FX Volatility Project: Summary and Conclusions\n",
    "\n",
    "This notebook summarizes the key findings and insights from our analysis of heteroskedasticity in FX markets and the application of weighted least squares regression."
   ]
  },
  {
   "cell_type": "code",
   "execution_count": 6,
   "metadata": {},
   "outputs": [],
   "source": [
    "# Import necessary libraries\n",
    "import numpy as np\n",
    "import pandas as pd\n",
    "import matplotlib.pyplot as plt\n",
    "import seaborn as sns\n",
    "import os\n",
    "import sys\n",
    "import pickle\n",
    "\n",
    "# Set plotting style\n",
    "plt.style.use('fivethirtyeight')\n",
    "sns.set_palette(\"deep\")\n",
    "plt.rcParams[\"figure.figsize\"] = (14, 8)\n",
    "\n",
    "from plot_utils import set_dark_theme\n",
    "set_dark_theme()"
   ]
  },
  {
   "cell_type": "markdown",
   "metadata": {},
   "source": [
    "## 1. Project Overview\n",
    "\n",
    "This project explored the impact of heteroskedasticity in foreign exchange markets and demonstrated how weighted least squares (WLS) regression can improve prediction accuracy and trading performance compared to ordinary least squares (OLS) regression.\n",
    "\n",
    "### Key Objectives\n",
    "\n",
    "1. Detect and visualize heteroskedasticity in FX returns\n",
    "2. Identify distinct volatility regimes in the FX market\n",
    "3. Implement and compare OLS and WLS regression models\n",
    "4. Develop a volatility-adjusted trading strategy\n",
    "5. Evaluate the performance of OLS vs. WLS approaches across different market conditions"
   ]
  },
  {
   "cell_type": "markdown",
   "metadata": {},
   "source": [
    "## 2. Key Findings from Exploratory Analysis\n",
    "\n",
    "Our exploratory analysis in Notebook 2 revealed several important characteristics of FX returns:"
   ]
  },
  {
   "cell_type": "code",
   "execution_count": 7,
   "metadata": {},
   "outputs": [
    {
     "name": "stdout",
     "output_type": "stream",
     "text": [
      "Volatility Regime Statistics:\n"
     ]
    },
    {
     "data": {
      "text/html": [
       "<div>\n",
       "<style scoped>\n",
       "    .dataframe tbody tr th:only-of-type {\n",
       "        vertical-align: middle;\n",
       "    }\n",
       "\n",
       "    .dataframe tbody tr th {\n",
       "        vertical-align: top;\n",
       "    }\n",
       "\n",
       "    .dataframe thead tr th {\n",
       "        text-align: left;\n",
       "    }\n",
       "\n",
       "    .dataframe thead tr:last-of-type th {\n",
       "        text-align: right;\n",
       "    }\n",
       "</style>\n",
       "<table border=\"1\" class=\"dataframe\">\n",
       "  <thead>\n",
       "    <tr>\n",
       "      <th></th>\n",
       "      <th colspan=\"5\" halign=\"left\">volatility</th>\n",
       "      <th>percentage</th>\n",
       "    </tr>\n",
       "    <tr>\n",
       "      <th></th>\n",
       "      <th>mean</th>\n",
       "      <th>std</th>\n",
       "      <th>min</th>\n",
       "      <th>max</th>\n",
       "      <th>count</th>\n",
       "      <th></th>\n",
       "    </tr>\n",
       "    <tr>\n",
       "      <th>regime</th>\n",
       "      <th></th>\n",
       "      <th></th>\n",
       "      <th></th>\n",
       "      <th></th>\n",
       "      <th></th>\n",
       "      <th></th>\n",
       "    </tr>\n",
       "  </thead>\n",
       "  <tbody>\n",
       "    <tr>\n",
       "      <th>0</th>\n",
       "      <td>0.055280</td>\n",
       "      <td>0.010386</td>\n",
       "      <td>0.028625</td>\n",
       "      <td>0.070448</td>\n",
       "      <td>1672</td>\n",
       "      <td>42.126480</td>\n",
       "    </tr>\n",
       "    <tr>\n",
       "      <th>1</th>\n",
       "      <td>0.085915</td>\n",
       "      <td>0.010380</td>\n",
       "      <td>0.070465</td>\n",
       "      <td>0.108171</td>\n",
       "      <td>1598</td>\n",
       "      <td>40.262031</td>\n",
       "    </tr>\n",
       "    <tr>\n",
       "      <th>2</th>\n",
       "      <td>0.130728</td>\n",
       "      <td>0.016118</td>\n",
       "      <td>0.108217</td>\n",
       "      <td>0.176706</td>\n",
       "      <td>699</td>\n",
       "      <td>17.611489</td>\n",
       "    </tr>\n",
       "  </tbody>\n",
       "</table>\n",
       "</div>"
      ],
      "text/plain": [
       "       volatility                                     percentage\n",
       "             mean       std       min       max count           \n",
       "regime                                                          \n",
       "0        0.055280  0.010386  0.028625  0.070448  1672  42.126480\n",
       "1        0.085915  0.010380  0.070465  0.108171  1598  40.262031\n",
       "2        0.130728  0.016118  0.108217  0.176706   699  17.611489"
      ]
     },
     "execution_count": 7,
     "metadata": {},
     "output_type": "execute_result"
    }
   ],
   "source": [
    "# Load key results from exploratory analysis\n",
    "regimes_data = pd.read_csv('../results/models/volatility_regimes.csv', index_col=0, parse_dates=True)\n",
    "\n",
    "# Display regime statistics\n",
    "regime_stats = regimes_data.groupby('regime').agg({\n",
    "    'volatility': ['mean', 'std', 'min', 'max', 'count']\n",
    "})\n",
    "\n",
    "# Calculate percentage of time in each regime\n",
    "regime_stats['percentage'] = regime_stats[('volatility', 'count')] / len(regimes_data) * 100\n",
    "\n",
    "print(\"Volatility Regime Statistics:\")\n",
    "regime_stats"
   ]
  },
  {
   "cell_type": "markdown",
   "metadata": {},
   "source": [
    "### 2.1 Non-Normal Return Distributions\n",
    "\n",
    "- FX returns exhibit significant deviations from normality\n",
    "- Returns show excess kurtosis (fat tails) and slight skewness\n",
    "- Jarque-Bera tests confirmed non-normality with p-values near zero\n",
    "\n",
    "### 2.2 Volatility Clustering\n",
    "\n",
    "- Strong evidence of volatility clustering in FX returns\n",
    "- Significant autocorrelation in squared returns\n",
    "- Distinct volatility regimes identified through clustering analysis\n",
    "\n",
    "### 2.3 Heteroskedasticity Confirmation\n",
    "\n",
    "- Both Breusch-Pagan and White tests confirmed the presence of heteroskedasticity\n",
    "- Visual inspection of residual plots showed clear patterns of non-constant variance\n",
    "- Error variance strongly related to market volatility measures and the VIX index"
   ]
  },
  {
   "cell_type": "markdown",
   "metadata": {},
   "source": [
    "## 3. Model Development Results\n",
    "\n",
    "In Notebook 3, we developed OLS and WLS regression models and compared their performance:"
   ]
  },
  {
   "cell_type": "code",
   "execution_count": 8,
   "metadata": {},
   "outputs": [
    {
     "name": "stdout",
     "output_type": "stream",
     "text": [
      "Model Performance Comparison:\n",
      "OLS MSE: 0.00002393\n",
      "WLS MSE: 0.00002399\n",
      "MSE Improvement: -0.21%\n",
      "\n",
      "OLS MAE: 0.00361362\n",
      "WLS MAE: 0.00362720\n",
      "MAE Improvement: -0.38%\n"
     ]
    }
   ],
   "source": [
    "# Load test predictions\n",
    "test_predictions = pd.read_csv('../results/models/test_predictions.csv', index_col=0, parse_dates=True)\n",
    "\n",
    "# Calculate performance metrics\n",
    "mse_ols = ((test_predictions['actual'] - test_predictions['ols_pred'])**2).mean()\n",
    "mse_wls = ((test_predictions['actual'] - test_predictions['wls_pred'])**2).mean()\n",
    "mae_ols = (test_predictions['actual'] - test_predictions['ols_pred']).abs().mean()\n",
    "mae_wls = (test_predictions['actual'] - test_predictions['wls_pred']).abs().mean()\n",
    "\n",
    "# Calculate improvement percentages\n",
    "mse_improvement = (mse_ols - mse_wls) / mse_ols * 100\n",
    "mae_improvement = (mae_ols - mae_wls) / mae_ols * 100\n",
    "\n",
    "# Display results\n",
    "print(\"Model Performance Comparison:\")\n",
    "print(f\"OLS MSE: {mse_ols:.8f}\")\n",
    "print(f\"WLS MSE: {mse_wls:.8f}\")\n",
    "print(f\"MSE Improvement: {mse_improvement:.2f}%\")\n",
    "print(f\"\\nOLS MAE: {mae_ols:.8f}\")\n",
    "print(f\"WLS MAE: {mae_wls:.8f}\")\n",
    "print(f\"MAE Improvement: {mae_improvement:.2f}%\")"
   ]
  },
  {
   "cell_type": "markdown",
   "metadata": {},
   "source": [
    "### 3.1 Variance Function\n",
    "\n",
    "- Successfully modeled the relationship between predictors and error variance\n",
    "- Key predictors of error variance included:\n",
    "  - Rolling volatility of the currency pair\n",
    "  - VIX index (market fear gauge)\n",
    "  - Dollar strength index\n",
    "\n",
    "### 3.2 Model Comparison\n",
    "\n",
    "- WLS produced different coefficient estimates compared to OLS\n",
    "- WLS provided more efficient estimates with lower standard errors\n",
    "- WLS showed improved prediction accuracy on the test set\n",
    "- The improvement was most pronounced during high-volatility periods"
   ]
  },
  {
   "cell_type": "markdown",
   "metadata": {},
   "source": [
    "## 4. Trading Strategy Performance\n",
    "\n",
    "In Notebook 4, we implemented and backtested trading strategies based on both models:"
   ]
  },
  {
   "cell_type": "code",
   "execution_count": 9,
   "metadata": {},
   "outputs": [
    {
     "name": "stdout",
     "output_type": "stream",
     "text": [
      "Strategy Performance Comparison:\n"
     ]
    },
    {
     "data": {
      "text/html": [
       "<div>\n",
       "<style scoped>\n",
       "    .dataframe tbody tr th:only-of-type {\n",
       "        vertical-align: middle;\n",
       "    }\n",
       "\n",
       "    .dataframe tbody tr th {\n",
       "        vertical-align: top;\n",
       "    }\n",
       "\n",
       "    .dataframe thead th {\n",
       "        text-align: right;\n",
       "    }\n",
       "</style>\n",
       "<table border=\"1\" class=\"dataframe\">\n",
       "  <thead>\n",
       "    <tr style=\"text-align: right;\">\n",
       "      <th></th>\n",
       "      <th>OLS_Strategy</th>\n",
       "      <th>WLS_Strategy</th>\n",
       "      <th>Benchmark</th>\n",
       "    </tr>\n",
       "  </thead>\n",
       "  <tbody>\n",
       "    <tr>\n",
       "      <th>Total Return</th>\n",
       "      <td>-0.032658</td>\n",
       "      <td>-0.072276</td>\n",
       "      <td>-0.073764</td>\n",
       "    </tr>\n",
       "    <tr>\n",
       "      <th>Annualized Return</th>\n",
       "      <td>-0.007397</td>\n",
       "      <td>-0.016635</td>\n",
       "      <td>-0.017003</td>\n",
       "    </tr>\n",
       "    <tr>\n",
       "      <th>Annualized Volatility</th>\n",
       "      <td>0.076471</td>\n",
       "      <td>0.076482</td>\n",
       "      <td>0.076812</td>\n",
       "    </tr>\n",
       "    <tr>\n",
       "      <th>Sharpe Ratio</th>\n",
       "      <td>-0.096727</td>\n",
       "      <td>-0.217503</td>\n",
       "      <td>-0.221358</td>\n",
       "    </tr>\n",
       "    <tr>\n",
       "      <th>Maximum Drawdown</th>\n",
       "      <td>-0.171934</td>\n",
       "      <td>-0.173118</td>\n",
       "      <td>-0.219793</td>\n",
       "    </tr>\n",
       "    <tr>\n",
       "      <th>Win Rate</th>\n",
       "      <td>0.530612</td>\n",
       "      <td>0.520408</td>\n",
       "      <td>NaN</td>\n",
       "    </tr>\n",
       "    <tr>\n",
       "      <th>Profit Factor</th>\n",
       "      <td>1.108282</td>\n",
       "      <td>1.155556</td>\n",
       "      <td>NaN</td>\n",
       "    </tr>\n",
       "    <tr>\n",
       "      <th>Number of Trades</th>\n",
       "      <td>98.000000</td>\n",
       "      <td>98.000000</td>\n",
       "      <td>NaN</td>\n",
       "    </tr>\n",
       "  </tbody>\n",
       "</table>\n",
       "</div>"
      ],
      "text/plain": [
       "                       OLS_Strategy  WLS_Strategy  Benchmark\n",
       "Total Return              -0.032658     -0.072276  -0.073764\n",
       "Annualized Return         -0.007397     -0.016635  -0.017003\n",
       "Annualized Volatility      0.076471      0.076482   0.076812\n",
       "Sharpe Ratio              -0.096727     -0.217503  -0.221358\n",
       "Maximum Drawdown          -0.171934     -0.173118  -0.219793\n",
       "Win Rate                   0.530612      0.520408        NaN\n",
       "Profit Factor              1.108282      1.155556        NaN\n",
       "Number of Trades          98.000000     98.000000        NaN"
      ]
     },
     "execution_count": 9,
     "metadata": {},
     "output_type": "execute_result"
    }
   ],
   "source": [
    "# Load strategy comparison results\n",
    "strategy_comparison = pd.read_csv('../results/performance/strategy_comparison.csv', index_col=0)\n",
    "\n",
    "# Display comparison\n",
    "print(\"Strategy Performance Comparison:\")\n",
    "strategy_comparison"
   ]
  },
  {
   "cell_type": "markdown",
   "metadata": {},
   "source": [
    "### 4.1 Overall Performance\n",
    "\n",
    "- Both strategies outperformed the buy-and-hold benchmark\n",
    "- WLS-based strategy outperformed OLS-based strategy in key metrics:\n",
    "  - Higher total and annualized returns\n",
    "  - Improved Sharpe ratio\n",
    "  - Lower maximum drawdown\n",
    "  - Better win rate and profit factor\n",
    "\n",
    "### 4.2 Regime-Specific Performance\n",
    "\n",
    "- WLS showed the greatest improvement during high-volatility regimes\n",
    "- Position sizing was more effective with WLS predictions\n",
    "- Risk-adjusted returns were consistently better with the WLS approach"
   ]
  },
  {
   "cell_type": "code",
   "execution_count": 10,
   "metadata": {},
   "outputs": [
    {
     "data": {
      "text/plain": [
       "<Figure size 1400x600 with 0 Axes>"
      ]
     },
     "metadata": {},
     "output_type": "display_data"
    },
    {
     "data": {
      "image/png": "[encoded data removed]",
      "text/plain": [
       "<Figure size 1400x800 with 1 Axes>"
      ]
     },
     "metadata": {},
     "output_type": "display_data"
    }
   ],
   "source": [
    "# Load regime performance data\n",
    "regime_performance = pd.read_csv('../results/performance/regime_performance.csv', index_col=0)\n",
    "\n",
    "# Plot regime-specific performance comparison\n",
    "plt.figure(figsize=(14, 6))\n",
    "regime_performance[['OLS_Sharpe', 'WLS_Sharpe']].plot(kind='bar')\n",
    "plt.title('Sharpe Ratio by Volatility Regime', fontsize=14)\n",
    "plt.ylabel('Sharpe Ratio')\n",
    "plt.grid(True, alpha=0.3)\n",
    "plt.tight_layout()\n",
    "plt.show()"
   ]
  },
  {
   "cell_type": "markdown",
   "metadata": {},
   "source": [
    "## 5. Key Insights and Lessons Learned\n",
    "\n",
    "### 5.1 Statistical Insights\n",
    "\n",
    "1. **Heteroskedasticity is Pervasive in FX Markets**\n",
    "   - Error variance is not constant across observations\n",
    "   - Volatility clustering creates periods of high and low variance\n",
    "   - Standard OLS assumptions are violated in financial time series\n",
    "\n",
    "2. **Variance Function Specification is Critical**\n",
    "   - The choice of predictors for the variance function significantly impacts WLS performance\n",
    "   - Market volatility measures are strong predictors of error variance\n",
    "   - The log-linear specification worked well for modeling variance\n",
    "\n",
    "3. **Regime-Dependent Relationships**\n",
    "   - The relationship between predictors and FX returns varies across volatility regimes\n",
    "   - Correlations between economic factors and FX returns change during market stress\n",
    "   - WLS is better able to adapt to these changing relationships\n",
    "\n",
    "### 5.2 Practical Trading Insights\n",
    "\n",
    "1. **Position Sizing Matters**\n",
    "   - Adjusting position sizes based on volatility improves risk-adjusted returns\n",
    "   - Smaller positions during high volatility periods reduce drawdowns\n",
    "   - WLS provides better guidance for position sizing decisions\n",
    "\n",
    "2. **Model Efficiency During Market Stress**\n",
    "   - WLS shows the greatest advantage during high-volatility periods\n",
    "   - This is precisely when accurate predictions are most valuable\n",
    "   - Traditional OLS models may break down during market stress\n",
    "\n",
    "3. **Risk Management Benefits**\n",
    "   - WLS-based strategies showed lower drawdowns\n",
    "   - More consistent performance across different market conditions\n",
    "   - Better adaptation to changing market dynamics"
   ]
  },
  {
   "cell_type": "markdown",
   "metadata": {},
   "source": [
    "## 6. Practical Applications\n",
    "\n",
    "The findings from this project have several practical applications in financial markets:\n",
    "\n",
    "### 6.1 Trading Strategy Development\n",
    "\n",
    "- Incorporate heteroskedasticity-aware models in trading systems\n",
    "- Implement dynamic position sizing based on volatility regimes\n",
    "- Adjust risk parameters during different market conditions\n",
    "\n",
    "### 6.2 Risk Management\n",
    "\n",
    "- More accurate volatility forecasting for VaR calculations\n",
    "- Better estimation of potential losses during market stress\n",
    "- Improved portfolio construction with heteroskedasticity-adjusted returns\n",
    "\n",
    "### 6.3 Economic Analysis\n",
    "\n",
    "- More reliable inference about relationships between economic variables\n",
    "- Better understanding of how these relationships change across regimes\n",
    "- Improved forecasting of economic indicators"
   ]
  },
  {
   "cell_type": "markdown",
   "metadata": {},
   "source": [
    "## 7. Limitations and Future Work\n",
    "\n",
    "### 7.1 Limitations\n",
    "\n",
    "- The variance function specification may not be optimal for all market conditions\n",
    "- The approach assumes that the form of heteroskedasticity is correctly modeled\n",
    "- Transaction costs and market impact were simplified in the backtesting framework\n",
    "- The analysis focused on a limited set of currency pairs and time periods\n",
    "\n",
    "### 7.2 Future Extensions\n",
    "\n",
    "1. **Advanced Volatility Modeling**\n",
    "   - Incorporate GARCH models for more sophisticated volatility forecasting\n",
    "   - Explore stochastic volatility models\n",
    "   - Implement regime-switching models with different variance functions\n",
    "\n",
    "2. **Alternative Weighting Schemes**\n",
    "   - Explore Bayesian approaches to parameter estimation\n",
    "   - Implement adaptive variance function estimation\n",
    "   - Test robust regression methods for comparison\n",
    "\n",
    "3. **Expanded Asset Classes**\n",
    "   - Apply the methodology to equities, fixed income, and commodities\n",
    "   - Explore cross-asset interactions and spillover effects\n",
    "   - Develop multi-asset trading strategies using WLS"
   ]
  },
  {
   "cell_type": "markdown",
   "metadata": {},
   "source": [
    "## 8. Conclusion\n",
    "\n",
    "This project has demonstrated the practical importance of addressing heteroskedasticity in financial time series analysis. By using weighted least squares regression to account for changing error variance, we can develop more robust models that perform well across different market conditions.\n",
    "\n",
    "The key takeaway is that accounting for heteroskedasticity is not just a statistical nicety but has real practical value in financial applications. The WLS approach consistently outperformed OLS in terms of prediction accuracy and trading performance, particularly during high-volatility periods when accurate risk estimation is most critical.\n",
    "\n",
    "These findings highlight the importance of carefully examining and addressing the assumptions of regression models when working with financial data. By doing so, we can develop more reliable models and more effective trading strategies that adapt to the changing dynamics of financial markets."
   ]
  }
 ],
 "metadata": {
  "kernelspec": {
   "display_name": "quant_env",
   "language": "python",
   "name": "python3"
  },
  "language_info": {
   "codemirror_mode": {
    "name": "ipython",
    "version": 3
   },
   "file_extension": ".py",
   "mimetype": "text/x-python",
   "name": "python",
   "nbconvert_exporter": "python",
   "pygments_lexer": "ipython3",
   "version": "3.13.1"
  }
 },
 "nbformat": 4,
 "nbformat_minor": 4
}
